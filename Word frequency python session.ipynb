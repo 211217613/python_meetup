{
 "cells": [
  {
   "cell_type": "markdown",
   "metadata": {},
   "source": [
    "# Meetup 1"
   ]
  },
  {
   "cell_type": "markdown",
   "metadata": {},
   "source": [
    "Going to parse texts for most used words. "
   ]
  },
  {
   "cell_type": "code",
   "execution_count": 9,
   "metadata": {},
   "outputs": [
    {
     "name": "stdout",
     "output_type": "stream",
     "text": [
      "8818 test.txt\r\n"
     ]
    }
   ],
   "source": [
    "# Lets see how many lines are in the PDF\n",
    "# We can use the '!' special character to run Linux commands inside of our notebook\n",
    "\n",
    "!wc -l test.txt"
   ]
  },
  {
   "cell_type": "code",
   "execution_count": 11,
   "metadata": {},
   "outputs": [
    {
     "name": "stdout",
     "output_type": "stream",
     "text": [
      "69087 test.txt\r\n"
     ]
    }
   ],
   "source": [
    "# Now lets see how many words\n",
    "\n",
    "!wc -w test.txt"
   ]
  },
  {
   "cell_type": "code",
   "execution_count": 5,
   "metadata": {},
   "outputs": [],
   "source": [
    "import nltk\n",
    "from nltk import tokenize"
   ]
  },
  {
   "cell_type": "code",
   "execution_count": null,
   "metadata": {},
   "outputs": [],
   "source": [
    "# Lets open the file so we can access the ascii contents\n",
    "# fd stands for file descriptor but we can use whatever name we want\n",
    "# the open command returns a file descripor object, which itself isn't very useful\n",
    "# so we need to read the entire contents so we have a text string we can parse\n",
    "# advanced: use a context manager with open() as x:\n",
    "\n",
    "fd = open('test.txt', 'r')\n",
    "text = fd.read()\n",
    "text"
   ]
  },
  {
   "cell_type": "markdown",
   "metadata": {},
   "source": [
    "We want to \"tokenize\" the text and discard \"stopwords\" like 'a', 'the', 'in'. These words aren't relevant for our analysis.\n",
    "\n",
    "To tokenize our text we're going to use regular expressions. Regular expressions are cool and you should try to use them whenever you can. To use regular expression we need to `import` the regular expression module `re`. Lets do this in the next cell!!"
   ]
  },
  {
   "cell_type": "code",
   "execution_count": 12,
   "metadata": {
    "collapsed": true
   },
   "outputs": [],
   "source": [
    "# import the regular expression module\n",
    "import re"
   ]
  },
  {
   "cell_type": "markdown",
   "metadata": {},
   "source": [
    "We want to tokenize **words**. We will use `\\w+` regular expression to tokenize all the words.\n",
    "- Lets break this down - `\\w` will match any alphanumerica and underscore characters\n",
    "- The `+` "
   ]
  },
  {
   "cell_type": "code",
   "execution_count": 23,
   "metadata": {},
   "outputs": [
    {
     "data": {
      "text/plain": [
       "['ALGORITHMIC',\n",
       " 'TRADING',\n",
       " 'Founded',\n",
       " 'in',\n",
       " '1807',\n",
       " 'John',\n",
       " 'Wiley',\n",
       " 'Sons',\n",
       " 'is']"
      ]
     },
     "execution_count": 23,
     "metadata": {},
     "output_type": "execute_result"
    }
   ],
   "source": [
    "match_words = '\\w+'\n",
    "tokens = re.findall(match_words, text)\n",
    "tokens[0:9]\n"
   ]
  },
  {
   "cell_type": "code",
   "execution_count": 21,
   "metadata": {
    "collapsed": true
   },
   "outputs": [],
   "source": [
    "# We can also use nltk to accomplish the same thing\n",
    "# from nltk.tokenize import RegexpTokenizer\n",
    "# tokenizer = RegexpTokenizer('\\w+')\n",
    "# tokenizer.tokenize(text)"
   ]
  },
  {
   "cell_type": "markdown",
   "metadata": {},
   "source": [
    "That was the easy part..... We want all the data(text) to be \"normalized\". The word 'Linear' is different then the word 'linear' but for our case it shouldn't be counted twice. "
   ]
  },
  {
   "cell_type": "markdown",
   "metadata": {},
   "source": [
    "Lets create a Python list container/data structure to store all of our words. For a more in depth look at Python lists and how to use them efficiently take a look at ....."
   ]
  },
  {
   "cell_type": "code",
   "execution_count": 24,
   "metadata": {},
   "outputs": [
    {
     "data": {
      "text/plain": [
       "['algorithmic', 'trading', 'founded', 'in', '1807', 'john', 'wiley', 'sons']"
      ]
     },
     "execution_count": 24,
     "metadata": {},
     "output_type": "execute_result"
    }
   ],
   "source": [
    "words = []\n",
    "for word in tokens:\n",
    "    words.append(word.lower())\n",
    "words[0:8]"
   ]
  },
  {
   "cell_type": "markdown",
   "metadata": {},
   "source": [
    "Now we must...clean the data yet more. It's like when you think you've cleaned your room but your mom tells you it ain't that clean yet. "
   ]
  },
  {
   "cell_type": "code",
   "execution_count": 28,
   "metadata": {},
   "outputs": [
    {
     "name": "stdout",
     "output_type": "stream",
     "text": [
      "[nltk_data] Downloading package stopwords to /home/rvaz/nltk_data...\n",
      "[nltk_data]   Unzipping corpora/stopwords.zip.\n"
     ]
    },
    {
     "data": {
      "text/plain": [
       "True"
      ]
     },
     "execution_count": 28,
     "metadata": {},
     "output_type": "execute_result"
    }
   ],
   "source": [
    "#Here we want a list of common stopwords but we need to download them first.\n",
    "nltk.download('stopwords')\n"
   ]
  },
  {
   "cell_type": "code",
   "execution_count": null,
   "metadata": {},
   "outputs": [],
   "source": [
    "stop_words  = nltk.corpus.stopwords.words('english')\n",
    "stop_words"
   ]
  },
  {
   "cell_type": "markdown",
   "metadata": {},
   "source": [
    "Now we have a Python list of stop words and a Python list of words in our text. We want to cross reference the tokens with the stop words and save those in a new list. Lets do that...."
   ]
  },
  {
   "cell_type": "code",
   "execution_count": 33,
   "metadata": {},
   "outputs": [
    {
     "data": {
      "text/plain": [
       "['algorithmic',\n",
       " 'trading',\n",
       " 'founded',\n",
       " '1807',\n",
       " 'john',\n",
       " 'wiley',\n",
       " 'sons',\n",
       " 'oldest',\n",
       " 'independent',\n",
       " 'publishing',\n",
       " 'company']"
      ]
     },
     "execution_count": 33,
     "metadata": {},
     "output_type": "execute_result"
    }
   ],
   "source": [
    "words_nsw = []\n",
    "for w in words:\n",
    "    if w not in stop_words:\n",
    "        words_nsw.append(w)\n",
    "words_nsw[0:11]"
   ]
  },
  {
   "cell_type": "markdown",
   "metadata": {},
   "source": [
    "Now comes the real fun stuff. Lets plot the word frequency histogram with two lines of actual code."
   ]
  },
  {
   "cell_type": "code",
   "execution_count": 37,
   "metadata": {},
   "outputs": [],
   "source": [
    "# lets import a graphing and data visualization library\n",
    "import matplotlib.pyplot as plt\n",
    "\n",
    "# Lets tell jupyter notebook to display images inside our notebook\n",
    "# %matplotlib inline"
   ]
  },
  {
   "cell_type": "code",
   "execution_count": 38,
   "metadata": {},
   "outputs": [
    {
     "data": {
      "image/png": "[encoded data removed]",
      "text/plain": [
       "<matplotlib.figure.Figure at 0x7f13a5cc1438>"
      ]
     },
     "metadata": {},
     "output_type": "display_data"
    }
   ],
   "source": [
    "freq_dist = nltk.FreqDist(words_nsw)\n",
    "freq_dist.plot(30)"
   ]
  }
 ],
 "metadata": {
  "kernelspec": {
   "display_name": "Python 3",
   "language": "python",
   "name": "python3"
  },
  "language_info": {
   "codemirror_mode": {
    "name": "ipython",
    "version": 3
   },
   "file_extension": ".py",
   "mimetype": "text/x-python",
   "name": "python",
   "nbconvert_exporter": "python",
   "pygments_lexer": "ipython3",
   "version": "3.5.2"
  }
 },
 "nbformat": 4,
 "nbformat_minor": 2
}
