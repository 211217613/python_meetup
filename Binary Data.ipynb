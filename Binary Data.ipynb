{
 "cells": [
  {
   "cell_type": "markdown",
   "metadata": {},
   "source": [
    "# Working with Binary Data"
   ]
  },
  {
   "cell_type": "markdown",
   "metadata": {},
   "source": [
    "The base64 module contains functions for translating binary data into a subset of ASCII suitable for transmission using plaintext protocols."
   ]
  },
  {
   "cell_type": "markdown",
   "metadata": {},
   "source": [
    "Super set of `binascii` and `struct`"
   ]
  },
  {
   "cell_type": "markdown",
   "metadata": {},
   "source": [
    "Almost a wrapper around struct and binascii. Implementation can be found at `/usr/lib/python3.5/base64.py`"
   ]
  },
  {
   "cell_type": "code",
   "execution_count": 1,
   "metadata": {
    "collapsed": false
   },
   "outputs": [],
   "source": [
    "import base64"
   ]
  },
  {
   "cell_type": "code",
   "execution_count": 2,
   "metadata": {
    "collapsed": false
   },
   "outputs": [
    {
     "data": {
      "text/plain": [
       "\"I'm killing your brain like a poisonous mushroom\""
      ]
     },
     "execution_count": 2,
     "metadata": {},
     "output_type": "execute_result"
    }
   ],
   "source": [
    "string = 'SSdtIGtpbGxpbmcgeW91ciBicmFpbiBsaWtlIGEgcG9pc29ub3VzIG11c2hyb29t'\n",
    "decode_string = base64.b64decode(string)\n",
    "decode_string.decode('ascii')"
   ]
  },
  {
   "cell_type": "markdown",
   "metadata": {},
   "source": [
    "### Encodings\n",
    " - base32 - uses a smaller subset then base64 Usually the alphabet [A-Z] and [2-7]\n",
    " - use b32encode/b32decode to convert bytes objects to convert an ascii string to base32 encoded data or base32 encoded data back to ascii\n",
    " - usually don't use bytes-like object, regular strings so we need to encode the raw string into a bytes-like object\n",
    " - **NOTE**: blocks of 10bytes for proper padding, dunno why\n",
    " - **NOTE**: for decoding, blocks of 8bytes."
   ]
  },
  {
   "cell_type": "code",
   "execution_count": 3,
   "metadata": {
    "collapsed": false
   },
   "outputs": [
    {
     "name": "stdout",
     "output_type": "stream",
     "text": [
      "64\n"
     ]
    },
    {
     "data": {
      "text/plain": [
       "b'KNJWI5CJI52HAYSHPBYGE3LDM5SVOOJRMNUUE2LDNVDHAYTJIJZWCV3UNREUORLHMNDTS4DDGI4XKYRTKZ5ESRZRGFRTE2DZMIZDS5A='"
      ]
     },
     "execution_count": 3,
     "metadata": {},
     "output_type": "execute_result"
    }
   ],
   "source": [
    "# this wont work:string = 'this is a regular ascii string that we will convert to base32'\n",
    "string = string.encode('utf-8')\n",
    "print(len(string))\n",
    "base64.b32encode(string)"
   ]
  },
  {
   "cell_type": "code",
   "execution_count": null,
   "metadata": {
    "collapsed": false
   },
   "outputs": [],
   "source": []
  },
  {
   "cell_type": "code",
   "execution_count": null,
   "metadata": {
    "collapsed": true
   },
   "outputs": [],
   "source": []
  }
 ],
 "metadata": {
  "kernelspec": {
   "display_name": "Python 3",
   "language": "python",
   "name": "python3"
  },
  "language_info": {
   "codemirror_mode": {
    "name": "ipython",
    "version": 3
   },
   "file_extension": ".py",
   "mimetype": "text/x-python",
   "name": "python",
   "nbconvert_exporter": "python",
   "pygments_lexer": "ipython3",
   "version": "3.5.2"
  }
 },
 "nbformat": 4,
 "nbformat_minor": 1
}
